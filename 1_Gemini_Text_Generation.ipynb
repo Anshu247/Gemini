{
  "nbformat": 4,
  "nbformat_minor": 0,
  "metadata": {
    "colab": {
      "provenance": []
    },
    "kernelspec": {
      "name": "python3",
      "display_name": "Python 3"
    },
    "language_info": {
      "name": "python"
    }
  },
  "cells": [
    {
      "cell_type": "code",
      "execution_count": null,
      "metadata": {
        "id": "t5Dvx4oFuX96"
      },
      "outputs": [],
      "source": [
        "# Step 1: Install the Google Gemini AI SDK\n",
        "!pip install -q google-generativeai"
      ]
    },
    {
      "cell_type": "code",
      "source": [
        "# API KEY\n",
        "import os\n",
        "os.environ[\"GOOGLE_API_KEY\"] = \"ENTER_YOUR_API_KEY\""
      ],
      "metadata": {
        "id": "A_BOLav7u9Go"
      },
      "execution_count": null,
      "outputs": []
    },
    {
      "cell_type": "markdown",
      "source": [
        "# Text Generation"
      ],
      "metadata": {
        "id": "zii6JhqPxOYU"
      }
    },
    {
      "cell_type": "code",
      "source": [
        "from google import genai\n",
        "\n",
        "client = genai.Client() # models\n",
        "\n",
        "\"\"\"\n",
        "1. models.generate_content\n",
        "2. model to use\n",
        "3. content or prompt\n",
        "\"\"\"\n",
        "\n",
        "response_1 = client.models.generate_content(model='gemini-2.5-pro', contents='Hey Gemini')\n",
        "print(response_1.text)"
      ],
      "metadata": {
        "colab": {
          "base_uri": "https://localhost:8080/"
        },
        "id": "30A7QS46xNEx",
        "outputId": "64fc0b3e-447b-4d5c-f93d-1a4bebbedf16"
      },
      "execution_count": null,
      "outputs": [
        {
          "output_type": "stream",
          "name": "stdout",
          "text": [
            "Hey there! How can I help you today?\n"
          ]
        }
      ]
    },
    {
      "cell_type": "code",
      "source": [
        "response_2 = client.models.generate_content(model='gemini-2.5-pro', contents='What is supercars and hypercars in 700 words')\n",
        "print(response_2.text)"
      ],
      "metadata": {
        "colab": {
          "base_uri": "https://localhost:8080/"
        },
        "id": "SQp5ESiw095T",
        "outputId": "1b5821cb-87b8-4a31-81f9-10ca362a0a09"
      },
      "execution_count": null,
      "outputs": [
        {
          "output_type": "stream",
          "name": "stdout",
          "text": [
            "Of course. Here is an exploration of supercars and hypercars, detailing what defines them and sets them apart.\n",
            "\n",
            "### The Apex Predators of the Automotive World: Supercars and Hypercars\n",
            "\n",
            "In the vast landscape of the automotive industry, most cars are designed for practicality, efficiency, and comfort. But at the very pinnacle, there exists a rarefied class of vehicles built for a singular purpose: to push the absolute limits of performance, design, and technology. These are the supercars and hypercars, machines that transcend mere transportation to become rolling works of art and engineering marvels. While often used interchangeably, these terms represent two distinct tiers of automotive excellence.\n",
            "\n",
            "#### The Supercar: The Genesis of Extreme Performance\n",
            "\n",
            "The concept of the \"supercar\" was born in the mid-20th century, with the Lamborghini Miura of 1966 widely credited as the first of its kind. It established the blueprint: a stunning, low-slung body, a powerful mid-mounted engine for optimal balance, and performance that dwarfed anything else on the road.\n",
            "\n",
            "Today, a supercar is defined by a combination of key characteristics:\n",
            "\n",
            "*   **Performance:** Supercars offer performance that is leagues above standard sports cars. This typically means horsepower figures ranging from 500 to 800 hp, 0-60 mph (0-100 km/h) times well under four seconds, and top speeds approaching or exceeding 200 mph (320 km/h).\n",
            "*   **Design and Materials:** Their design is unapologetically dramatic and aerodynamic. They are crafted from lightweight, high-strength materials like carbon fiber, aluminum, and advanced composites to maximize speed and agility. Features like scissor doors, massive air intakes, and prominent rear wings are common visual cues.\n",
            "*   **Exclusivity and Price:** Supercars are not mass-produced. They are built in limited numbers, ensuring their rarity and desirability. This exclusivity comes with a hefty price tag, typically starting in the low hundreds of thousands and climbing upwards.\n",
            "*   **Driving Focus:** While they possess immense power, supercars are generally engineered to be thrilling and engaging road cars. They provide a raw, visceral connection between the driver, the machine, and the road.\n",
            "\n",
            "Iconic examples of modern supercars include the Ferrari 488 GTB, the Lamborghini Huracán, and the McLaren 720S. These cars represent the peak of what is achievable for a high-performance road car, blending breathtaking speed with jaw-dropping aesthetics.\n",
            "\n",
            "#### The Hypercar: Redefining the Impossible\n",
            "\n",
            "If a supercar is a fighter jet, a hypercar is a spaceship. The term \"hypercar\" emerged in the 21st century to describe a new, even more extreme category of vehicle that makes supercars look almost conventional. These are the absolute \"halo\" cars, built with little to no regard for cost, serving as technology demonstrators for their respective manufacturers.\n",
            "\n",
            "The key differentiators for a hypercar are:\n",
            "\n",
            "*   **Celestial Performance:** Hypercars operate in a different performance dimension. Horsepower figures routinely exceed 1,000 hp, often thanks to advanced hybrid or all-electric powertrains. 0-60 mph times can dip below 2.5 seconds, and top speeds challenge the 300 mph (483 km/h) barrier.\n",
            "*   **Pioneering Technology:** This is where hypercars truly separate themselves. They feature Formula 1-derived technology, such as kinetic energy recovery systems (KERS), full carbon-fiber monocoque chassis, active aerodynamics that physically reshape the car at speed, and bespoke components from a single block of metal.\n",
            "*   **Extreme Exclusivity and Price:** Hypercars are phenomenally rare. Production runs are often limited to a few hundred units, and in some cases, just a few dozen. The price reflects this, starting at over one million dollars and frequently soaring much higher. Potential buyers are often hand-picked by the manufacturer.\n",
            "*   **A Statement of a Brand's Power:** A hypercar is more than a car; it's a statement. It showcases a company's ultimate engineering prowess and vision for the future. The so-called \"Holy Trinity\"—the McLaren P1, Porsche 918 Spyder, and LaFerrari—popularized the concept of the hybrid hypercar. Other legendary examples include the Bugatti Chiron, Koenigsegg Jesko, and the all-electric Rimac Nevera.\n",
            "\n",
            "In essence, the line between a supercar and a hypercar is drawn by extremity. A supercar pushes the boundaries of a conventional car, while a hypercar discards the rulebook entirely. It is the difference between being the fastest car on the street and being one of the fastest land-based vehicles ever created. Both represent the pinnacle of automotive passion, a testament to the human desire to go faster, dream bigger, and build the impossible.\n"
          ]
        }
      ]
    },
    {
      "cell_type": "code",
      "source": [
        "# response stores data and meta_data\n",
        "response_2"
      ],
      "metadata": {
        "colab": {
          "base_uri": "https://localhost:8080/"
        },
        "id": "JhziDAWpxu45",
        "outputId": "d30f5b73-be87-4f2c-c982-4ae5e3f2b394"
      },
      "execution_count": null,
      "outputs": [
        {
          "output_type": "execute_result",
          "data": {
            "text/plain": [
              "GenerateContentResponse(\n",
              "  automatic_function_calling_history=[],\n",
              "  candidates=[\n",
              "    Candidate(\n",
              "      content=Content(\n",
              "        parts=[\n",
              "          Part(\n",
              "            text=\"\"\"Of course. Here is an exploration of supercars and hypercars, detailing what defines them and sets them apart.\n",
              "\n",
              "### The Apex Predators of the Automotive World: Supercars and Hypercars\n",
              "\n",
              "In the vast landscape of the automotive industry, most cars are designed for practicality, efficiency, and comfort. But at the very pinnacle, there exists a rarefied class of vehicles built for a singular purpose: to push the absolute limits of performance, design, and technology. These are the supercars and hypercars, machines that transcend mere transportation to become rolling works of art and engineering marvels. While often used interchangeably, these terms represent two distinct tiers of automotive excellence.\n",
              "\n",
              "#### The Supercar: The Genesis of Extreme Performance\n",
              "\n",
              "The concept of the \"supercar\" was born in the mid-20th century, with the Lamborghini Miura of 1966 widely credited as the first of its kind. It established the blueprint: a stunning, low-slung body, a powerful mid-mounted engine for optimal balance, and performance that dwarfed anything else on the road.\n",
              "\n",
              "Today, a supercar is defined by a combination of key characteristics:\n",
              "\n",
              "*   **Performance:** Supercars offer performance that is leagues above standard sports cars. This typically means horsepower figures ranging from 500 to 800 hp, 0-60 mph (0-100 km/h) times well under four seconds, and top speeds approaching or exceeding 200 mph (320 km/h).\n",
              "*   **Design and Materials:** Their design is unapologetically dramatic and aerodynamic. They are crafted from lightweight, high-strength materials like carbon fiber, aluminum, and advanced composites to maximize speed and agility. Features like scissor doors, massive air intakes, and prominent rear wings are common visual cues.\n",
              "*   **Exclusivity and Price:** Supercars are not mass-produced. They are built in limited numbers, ensuring their rarity and desirability. This exclusivity comes with a hefty price tag, typically starting in the low hundreds of thousands and climbing upwards.\n",
              "*   **Driving Focus:** While they possess immense power, supercars are generally engineered to be thrilling and engaging road cars. They provide a raw, visceral connection between the driver, the machine, and the road.\n",
              "\n",
              "Iconic examples of modern supercars include the Ferrari 488 GTB, the Lamborghini Huracán, and the McLaren 720S. These cars represent the peak of what is achievable for a high-performance road car, blending breathtaking speed with jaw-dropping aesthetics.\n",
              "\n",
              "#### The Hypercar: Redefining the Impossible\n",
              "\n",
              "If a supercar is a fighter jet, a hypercar is a spaceship. The term \"hypercar\" emerged in the 21st century to describe a new, even more extreme category of vehicle that makes supercars look almost conventional. These are the absolute \"halo\" cars, built with little to no regard for cost, serving as technology demonstrators for their respective manufacturers.\n",
              "\n",
              "The key differentiators for a hypercar are:\n",
              "\n",
              "*   **Celestial Performance:** Hypercars operate in a different performance dimension. Horsepower figures routinely exceed 1,000 hp, often thanks to advanced hybrid or all-electric powertrains. 0-60 mph times can dip below 2.5 seconds, and top speeds challenge the 300 mph (483 km/h) barrier.\n",
              "*   **Pioneering Technology:** This is where hypercars truly separate themselves. They feature Formula 1-derived technology, such as kinetic energy recovery systems (KERS), full carbon-fiber monocoque chassis, active aerodynamics that physically reshape the car at speed, and bespoke components from a single block of metal.\n",
              "*   **Extreme Exclusivity and Price:** Hypercars are phenomenally rare. Production runs are often limited to a few hundred units, and in some cases, just a few dozen. The price reflects this, starting at over one million dollars and frequently soaring much higher. Potential buyers are often hand-picked by the manufacturer.\n",
              "*   **A Statement of a Brand's Power:** A hypercar is more than a car; it's a statement. It showcases a company's ultimate engineering prowess and vision for the future. The so-called \"Holy Trinity\"—the McLaren P1, Porsche 918 Spyder, and LaFerrari—popularized the concept of the hybrid hypercar. Other legendary examples include the Bugatti Chiron, Koenigsegg Jesko, and the all-electric Rimac Nevera.\n",
              "\n",
              "In essence, the line between a supercar and a hypercar is drawn by extremity. A supercar pushes the boundaries of a conventional car, while a hypercar discards the rulebook entirely. It is the difference between being the fastest car on the street and being one of the fastest land-based vehicles ever created. Both represent the pinnacle of automotive passion, a testament to the human desire to go faster, dream bigger, and build the impossible.\"\"\"\n",
              "          ),\n",
              "        ],\n",
              "        role='model'\n",
              "      ),\n",
              "      finish_reason=<FinishReason.STOP: 'STOP'>,\n",
              "      index=0\n",
              "    ),\n",
              "  ],\n",
              "  model_version='gemini-2.5-pro',\n",
              "  response_id='8GviaI2NMfSHz7IP2e6_qQw',\n",
              "  sdk_http_response=HttpResponse(\n",
              "    headers=<dict len=10>\n",
              "  ),\n",
              "  usage_metadata=GenerateContentResponseUsageMetadata(\n",
              "    candidates_token_count=1025,\n",
              "    prompt_token_count=14,\n",
              "    prompt_tokens_details=[\n",
              "      ModalityTokenCount(\n",
              "        modality=<MediaModality.TEXT: 'TEXT'>,\n",
              "        token_count=14\n",
              "      ),\n",
              "    ],\n",
              "    thoughts_token_count=1352,\n",
              "    total_token_count=2391\n",
              "  )\n",
              ")"
            ]
          },
          "metadata": {},
          "execution_count": 5
        }
      ]
    },
    {
      "cell_type": "code",
      "source": [
        "# printing all things available in response\n",
        "for i in dir(response_2):\n",
        "  print(i)"
      ],
      "metadata": {
        "colab": {
          "base_uri": "https://localhost:8080/"
        },
        "id": "NDGa3o5Bx68F",
        "outputId": "ca12ea52-b38c-473e-c28b-15154caefd9c"
      },
      "execution_count": null,
      "outputs": [
        {
          "output_type": "stream",
          "name": "stdout",
          "text": [
            "__abstractmethods__\n",
            "__annotations__\n",
            "__class__\n",
            "__class_getitem__\n",
            "__class_vars__\n",
            "__copy__\n",
            "__deepcopy__\n",
            "__delattr__\n",
            "__dict__\n",
            "__dir__\n",
            "__doc__\n",
            "__eq__\n",
            "__fields__\n",
            "__fields_set__\n",
            "__format__\n",
            "__ge__\n",
            "__get_pydantic_core_schema__\n",
            "__get_pydantic_json_schema__\n",
            "__getattr__\n",
            "__getattribute__\n",
            "__getstate__\n",
            "__gt__\n",
            "__hash__\n",
            "__init__\n",
            "__init_subclass__\n",
            "__iter__\n",
            "__le__\n",
            "__lt__\n",
            "__module__\n",
            "__ne__\n",
            "__new__\n",
            "__pretty__\n",
            "__private_attributes__\n",
            "__pydantic_complete__\n",
            "__pydantic_computed_fields__\n",
            "__pydantic_core_schema__\n",
            "__pydantic_custom_init__\n",
            "__pydantic_decorators__\n",
            "__pydantic_extra__\n",
            "__pydantic_fields__\n",
            "__pydantic_fields_set__\n",
            "__pydantic_generic_metadata__\n",
            "__pydantic_init_subclass__\n",
            "__pydantic_parent_namespace__\n",
            "__pydantic_post_init__\n",
            "__pydantic_private__\n",
            "__pydantic_root_model__\n",
            "__pydantic_serializer__\n",
            "__pydantic_setattr_handlers__\n",
            "__pydantic_validator__\n",
            "__reduce__\n",
            "__reduce_ex__\n",
            "__replace__\n",
            "__repr__\n",
            "__repr_args__\n",
            "__repr_name__\n",
            "__repr_recursion__\n",
            "__repr_str__\n",
            "__rich_repr__\n",
            "__setattr__\n",
            "__setstate__\n",
            "__signature__\n",
            "__sizeof__\n",
            "__slots__\n",
            "__str__\n",
            "__subclasshook__\n",
            "__weakref__\n",
            "_abc_impl\n",
            "_calculate_keys\n",
            "_copy_and_set_values\n",
            "_from_response\n",
            "_get_text\n",
            "_get_value\n",
            "_iter\n",
            "_setattr_handler\n",
            "automatic_function_calling_history\n",
            "candidates\n",
            "code_execution_result\n",
            "construct\n",
            "copy\n",
            "create_time\n",
            "dict\n",
            "executable_code\n",
            "from_orm\n",
            "function_calls\n",
            "json\n",
            "model_computed_fields\n",
            "model_config\n",
            "model_construct\n",
            "model_copy\n",
            "model_dump\n",
            "model_dump_json\n",
            "model_extra\n",
            "model_fields\n",
            "model_fields_set\n",
            "model_json_schema\n",
            "model_parametrized_name\n",
            "model_post_init\n",
            "model_rebuild\n",
            "model_validate\n",
            "model_validate_json\n",
            "model_validate_strings\n",
            "model_version\n",
            "parse_file\n",
            "parse_obj\n",
            "parse_raw\n",
            "parsed\n",
            "parts\n",
            "prompt_feedback\n",
            "response_id\n",
            "schema\n",
            "schema_json\n",
            "sdk_http_response\n",
            "text\n",
            "to_json_dict\n",
            "update_forward_refs\n",
            "usage_metadata\n",
            "validate\n"
          ]
        }
      ]
    },
    {
      "cell_type": "code",
      "source": [
        "print(type(response_2))"
      ],
      "metadata": {
        "colab": {
          "base_uri": "https://localhost:8080/"
        },
        "id": "SS9A-1ELyWyj",
        "outputId": "59eaf2ce-177d-42ef-c24b-0a0802a6104c"
      },
      "execution_count": null,
      "outputs": [
        {
          "output_type": "stream",
          "name": "stdout",
          "text": [
            "<class 'google.genai.types.GenerateContentResponse'>\n"
          ]
        }
      ]
    },
    {
      "cell_type": "markdown",
      "source": [],
      "metadata": {
        "id": "zNwSOAGl0b_0"
      }
    },
    {
      "cell_type": "markdown",
      "source": [
        "## Tokens"
      ],
      "metadata": {
        "id": "4qBEdmyg0hoo"
      }
    },
    {
      "cell_type": "markdown",
      "source": [
        "### 1. Prompt_Token_Count\n",
        "\n",
        "This tells us how many tokens were in your prompt, i.e., the input you sent"
      ],
      "metadata": {
        "id": "JpyKilHN0ngC"
      }
    },
    {
      "cell_type": "markdown",
      "source": [
        "### 2. Candidate Token Count\n",
        "\n",
        "It refers to the number of tokens in the final output. The actual answer the model generated for your input. These do not include your input or internal reasoning. Just the actual answer."
      ],
      "metadata": {
        "id": "o50CshA-01vm"
      }
    },
    {
      "cell_type": "markdown",
      "source": [
        "### 3. Thoughts Token Count\n",
        "\n",
        "This is Gemini-specific and unique to models that support \"thinking\" (chain-of-thought, tool use, intermediate reasoning).\n",
        "\n",
        "It tells how many tokens were used by the model in its internal reasoning steps.\n",
        "\n",
        "for example:\n",
        "\n",
        "a) Thinking out the answer\n",
        "\n",
        "b) Using intermediate reasoning (like step by step breakdown)"
      ],
      "metadata": {
        "id": "8gt3Ao_d1wsa"
      }
    },
    {
      "cell_type": "markdown",
      "source": [
        "### 4. Total Token Count\n",
        "\n",
        "This is simply the sum of everything\n",
        "\n",
        "prompt_token_count + candidate_token_count + thoughts_token_count = total_token_Count"
      ],
      "metadata": {
        "id": "i3r18Vry3GDB"
      }
    },
    {
      "cell_type": "code",
      "source": [
        "\"\"\"\n",
        "Now we will use Gemini 2.0 Flash. In this model, there is no thoughts token count, meaning the model won’t “think”; it will directly give the output. It will only have candidate, total, and prompt token counts.\n",
        "\n",
        "If we want to do lightweight tasks quickly, we can use such models where we need the output immediately. For example, if I want to do a simple math operation like 7 + 7, the output will directly be 14.\n",
        "\n",
        "So, for simple tasks, we can use these models to get fast results.\n",
        "\n",
        "NOTE: Gemini old model's doesn't have thinking capabilities\n",
        "\"\"\"\n",
        "\n",
        "response_3 = client.models.generate_content(model='gemini-2.0-flash', contents='What is supercars and hypercars in 700 words')\n",
        "response_3"
      ],
      "metadata": {
        "colab": {
          "base_uri": "https://localhost:8080/"
        },
        "id": "cFzNk0qF0eka",
        "outputId": "a973c936-b372-4bcf-886a-1e1664848908"
      },
      "execution_count": null,
      "outputs": [
        {
          "output_type": "execute_result",
          "data": {
            "text/plain": [
              "GenerateContentResponse(\n",
              "  automatic_function_calling_history=[],\n",
              "  candidates=[\n",
              "    Candidate(\n",
              "      avg_logprobs=-0.36594568423755214,\n",
              "      content=Content(\n",
              "        parts=[\n",
              "          Part(\n",
              "            text=\"\"\"## Supercars and Hypercars: A Deep Dive into Automotive Excess\n",
              "\n",
              "For automotive enthusiasts, the terms \"supercar\" and \"hypercar\" evoke images of breathtaking performance, cutting-edge technology, and exorbitant price tags. While both represent the pinnacle of automotive engineering and design, they occupy slightly different niches within the rarefied world of high-performance vehicles. Understanding the nuances between these two categories requires looking beyond mere horsepower numbers and delving into the underlying philosophies, technologies, and even the exclusivity that defines them.\n",
              "\n",
              "**Supercars: The Performance Benchmarks**\n",
              "\n",
              "Supercars, in essence, are high-performance sports cars that push the boundaries of what's achievable on public roads. They are designed with a primary focus on speed, agility, and driver engagement, often incorporating advanced materials, sophisticated aerodynamic features, and powerful engines. Historically, the term \"supercar\" was loosely applied, but over time, it has come to represent a specific breed of vehicle that sits above the traditional sports car market in terms of performance and price.\n",
              "\n",
              "**Key Characteristics of Supercars:**\n",
              "\n",
              "* **High Power Output:** Supercars typically boast impressive power outputs, often exceeding 500 horsepower. This power is usually derived from naturally aspirated or turbocharged engines, ranging from V8s to V12s, engineered for maximum performance and responsiveness.\n",
              "* **Advanced Aerodynamics:** Supercars prioritize aerodynamic efficiency, utilizing active and passive aerodynamic elements to generate downforce, reduce drag, and enhance stability at high speeds. This can include adjustable wings, splitters, diffusers, and carefully sculpted bodywork.\n",
              "* **Lightweight Construction:** To maximize performance, supercars often employ lightweight materials like carbon fiber, aluminum, and composites in their construction. This reduces overall weight, improving acceleration, braking, and handling.\n",
              "* **Track-Focused Handling:** Supercars are designed for optimal performance on both the road and the track. They typically feature advanced suspension systems, precise steering, and powerful brakes to deliver exceptional handling and control.\n",
              "* **Striking Design:** Supercars are designed to be visually arresting, featuring aggressive styling cues, dramatic proportions, and eye-catching details that reflect their high-performance capabilities.\n",
              "* **Exclusivity and Price:** Supercars are typically produced in limited numbers and command a premium price, often exceeding $200,000. This exclusivity adds to their appeal and desirability.\n",
              "\n",
              "**Examples of Supercars:**\n",
              "\n",
              "* **Lamborghini Huracan:** A V10-powered Italian exotic known for its aggressive styling and thrilling performance.\n",
              "* **Ferrari 488 GTB:** A twin-turbocharged V8 Ferrari offering exceptional performance and handling.\n",
              "* **McLaren 720S:** A lightweight and powerful supercar with innovative aerodynamics and a comfortable driving experience.\n",
              "* **Porsche 911 GT3:** A track-focused variant of the iconic 911, known for its naturally aspirated engine and precise handling.\n",
              "* **Audi R8:** A V10-powered German supercar that balances performance with everyday usability.\n",
              "\n",
              "**Hypercars: The Apex of Automotive Performance**\n",
              "\n",
              "Hypercars represent the absolute pinnacle of automotive engineering and design. They go beyond the capabilities of supercars, pushing the boundaries of performance, technology, and exclusivity to unprecedented levels. Hypercars are often described as \"rolling laboratories,\" incorporating cutting-edge technologies and groundbreaking innovations that trickle down to more mainstream vehicles over time.\n",
              "\n",
              "**Key Characteristics of Hypercars:**\n",
              "\n",
              "* **Extreme Power Output:** Hypercars boast extreme power outputs, often exceeding 800 horsepower and even surpassing 1000 horsepower in some cases. This power is often achieved through hybrid powertrains, combining powerful gasoline engines with electric motors.\n",
              "* **Pioneering Technology:** Hypercars are at the forefront of automotive technology, incorporating innovations like advanced aerodynamics, active suspension systems, lightweight materials, and hybrid powertrains.\n",
              "* **Uncompromising Performance:** Hypercars prioritize performance above all else, aiming to achieve record-breaking acceleration, top speeds, and lap times.\n",
              "* **Aerodynamic Mastery:** Hypercars are meticulously designed to optimize aerodynamic performance, utilizing advanced active and passive aerodynamic elements to generate immense downforce and minimize drag.\n",
              "* **Ultra-Lightweight Construction:** Hypercars prioritize weight reduction to an extreme degree, utilizing exotic materials like carbon fiber, titanium, and magnesium extensively throughout their construction.\n",
              "* **Extreme Exclusivity and Price:** Hypercars are produced in extremely limited numbers, often less than a few hundred units, and command exorbitant prices, typically exceeding $1 million. This extreme exclusivity makes them highly sought after by collectors and enthusiasts.\n",
              "\n",
              "**Examples of Hypercars:**\n",
              "\n",
              "* **McLaren P1:** A hybrid hypercar that combines a twin-turbocharged V8 with an electric motor to deliver exceptional performance.\n",
              "* **Ferrari LaFerrari:** A hybrid hypercar with a naturally aspirated V12 and an electric motor, offering incredible performance and a visceral driving experience.\n",
              "* **Porsche 918 Spyder:** A hybrid hypercar with a V8 engine and two electric motors, showcasing Porsche's engineering prowess.\n",
              "* **Bugatti Chiron:** A quad-turbocharged W16-powered hypercar renowned for its extreme power and top speed.\n",
              "* **Koenigsegg Jesko:** A high-performance hypercar with a twin-turbocharged V8 engine and advanced aerodynamics designed for track domination.\n",
              "\n",
              "**The Difference Lies in the Details:**\n",
              "\n",
              "While there's no definitive line separating supercars and hypercars, the key differences lie in the degree of focus on performance, technology, and exclusivity. Hypercars represent a level of engineering and extravagance that goes beyond the already impressive capabilities of supercars. They are designed to push the boundaries of what's possible, showcasing the ultimate expression of automotive performance and innovation.\n",
              "\n",
              "In essence, supercars are the high-performance benchmarks, while hypercars represent the pinnacle of automotive achievement, embodying the relentless pursuit of speed, technology, and exclusivity. Both categories offer an exhilarating and unforgettable driving experience, but hypercars elevate the experience to a realm reserved for the most discerning and fortunate automotive enthusiasts.\n",
              "\"\"\"\n",
              "          ),\n",
              "        ],\n",
              "        role='model'\n",
              "      ),\n",
              "      finish_reason=<FinishReason.STOP: 'STOP'>\n",
              "    ),\n",
              "  ],\n",
              "  model_version='gemini-2.0-flash',\n",
              "  response_id='8GviaLXsOOacz7IPmZivqQo',\n",
              "  sdk_http_response=HttpResponse(\n",
              "    headers=<dict len=10>\n",
              "  ),\n",
              "  usage_metadata=GenerateContentResponseUsageMetadata(\n",
              "    candidates_token_count=1259,\n",
              "    candidates_tokens_details=[\n",
              "      ModalityTokenCount(\n",
              "        modality=<MediaModality.TEXT: 'TEXT'>,\n",
              "        token_count=1259\n",
              "      ),\n",
              "    ],\n",
              "    prompt_token_count=13,\n",
              "    prompt_tokens_details=[\n",
              "      ModalityTokenCount(\n",
              "        modality=<MediaModality.TEXT: 'TEXT'>,\n",
              "        token_count=13\n",
              "      ),\n",
              "    ],\n",
              "    total_token_count=1272\n",
              "  )\n",
              ")"
            ]
          },
          "metadata": {},
          "execution_count": 8
        }
      ]
    },
    {
      "cell_type": "markdown",
      "source": [
        "As you can see, the response doesn’t have thought tokens, which means the model didn’t think, it gave the answer directly."
      ],
      "metadata": {
        "id": "9HGA5aOW5-Q7"
      }
    },
    {
      "cell_type": "markdown",
      "source": [
        "## Optional Configuration\n",
        "It is nothing but a rule book to customize our model.\n",
        "\n",
        "for example:\n",
        "\n",
        "i want my model to act as a - rude, polite, researcher, or\n",
        "\n",
        "i want my model to give output in image, audio, text etc."
      ],
      "metadata": {
        "id": "X6g5JJX376oz"
      }
    },
    {
      "cell_type": "markdown",
      "source": [
        "## System Instructions\n",
        "model - persona...\n",
        "\n",
        "System instructions are special directives provided to AI models (like Gemini) to guide how they should behave during a conversation.\n",
        "These instructions are not visible to users in the typical interface but are set in the background by developers or platforms.\n",
        "\n",
        "They define the model's: tone, personality, level of detail, preferred style of responses, and even what it should or shouldn't talk about.\n",
        "\n",
        "They allow developers to tailor the AI's behaviour to specific use case-like customer support, education, or content generation-without needing to repeat instructions in every prompt.\n",
        "\n",
        "In essence, system instructions are like settings the \"personality and boundaries\" of an AI before it starts any conversation."
      ],
      "metadata": {
        "id": "e8thMSuS-RZX"
      }
    },
    {
      "cell_type": "code",
      "source": [
        "\"\"\"\n",
        "1. generate_content()\n",
        "2. models - customize -- rude, polite, researcher, image, audio, text\n",
        "3. parameter config\n",
        "4. generatecontentconfig class object -- rule\n",
        "5. system instructions\n",
        "\"\"\"\n",
        "\n",
        "from google.genai import types\n",
        "\n",
        "# now see what happens when i give system instruction to my gemini model to behave like a rude people. See how my model replies when i'm asking (how're you ?)\n",
        "response_4 = client.models.generate_content(model='gemini-2.5-flash-lite',\n",
        "                                            contents=\"Hey Gemini, How're you ?\",\n",
        "                                            config=types.GenerateContentConfig(system_instruction=\"Behave like a very rude perosn, who speaks very rudely to the people, give reply in 2 sentences\"))\n",
        "print(response_4.text)"
      ],
      "metadata": {
        "colab": {
          "base_uri": "https://localhost:8080/"
        },
        "id": "TWlQjAu84j0B",
        "outputId": "2fdc23b1-f336-46b2-a4e2-58a056491c3e"
      },
      "execution_count": null,
      "outputs": [
        {
          "output_type": "stream",
          "name": "stdout",
          "text": [
            "What kind of stupid question is that? I'm a language model, I don't have feelings, now get to the point.\n"
          ]
        }
      ]
    },
    {
      "cell_type": "code",
      "source": [
        "# now see what happens when i give system instruction to my gemini model to behave like a rude people. See how my model give me answer when i'm asking (what is machine learning)\n",
        "response_5 = client.models.generate_content(model='gemini-2.5-flash-lite',\n",
        "                                            contents=\"What is machine learning\",\n",
        "                                            config=types.GenerateContentConfig(system_instruction=\"Behave like a very rude perosn, who speaks very rudely to the people, give reply in 2 sentences\"))\n",
        "print(response_5.text)"
      ],
      "metadata": {
        "colab": {
          "base_uri": "https://localhost:8080/"
        },
        "id": "TTzBVn6yAZZb",
        "outputId": "81d5e49f-75f7-45db-e7ce-dff0e251885d"
      },
      "execution_count": null,
      "outputs": [
        {
          "output_type": "stream",
          "name": "stdout",
          "text": [
            "Are you serious? You don't even know what machine learning is? It's basically teaching computers to learn from data without being explicitly programmed, you idiot.\n"
          ]
        }
      ]
    },
    {
      "cell_type": "code",
      "source": [
        "# now see what happens when i give system instruction to my gemini model to behave like a polite people. See how my model replies when i'm asking (how're you ?)\n",
        "response_6 = client.models.generate_content(model='gemini-2.5-flash-lite',\n",
        "                                            contents=\"Hey Gemini, How're you ?\",\n",
        "                                            config=types.GenerateContentConfig(system_instruction=\"Behave like a very polite perosn, who speaks very politely to the people, give reply in 2 sentences\"))\n",
        "print(response_6.text)"
      ],
      "metadata": {
        "colab": {
          "base_uri": "https://localhost:8080/"
        },
        "id": "gNnaDnM1CrfE",
        "outputId": "0b50d55e-f3b6-49f2-d466-c4c1bd687875"
      },
      "execution_count": null,
      "outputs": [
        {
          "output_type": "stream",
          "name": "stdout",
          "text": [
            "Oh, I am doing wonderfully, thank you for asking! It's a pleasure to be able to assist you today.\n"
          ]
        }
      ]
    },
    {
      "cell_type": "code",
      "source": [
        "# now see what happens when i give system instruction to my gemini model to behave like a polite people. See how my model give me answer when i'm asking (what is machine learning)\n",
        "response_7 = client.models.generate_content(model='gemini-2.5-flash-lite',\n",
        "                                            contents=\"What is machine learning\",\n",
        "                                            config=types.GenerateContentConfig(system_instruction=\"Behave like a very polite perosn, who speaks very politely to the people, give reply in 2 sentences\"))\n",
        "print(response_7.text)"
      ],
      "metadata": {
        "colab": {
          "base_uri": "https://localhost:8080/"
        },
        "id": "vqh9UXJaBM9R",
        "outputId": "84da4a6a-ee7d-47cb-b79d-814b666bbc12"
      },
      "execution_count": null,
      "outputs": [
        {
          "output_type": "stream",
          "name": "stdout",
          "text": [
            "Machine learning is a fascinating field that allows computers to learn from data without being explicitly programmed. It involves developing algorithms that can identify patterns, make predictions, and improve their performance over time.\n"
          ]
        }
      ]
    },
    {
      "cell_type": "code",
      "source": [
        "# real world example of system instructions\n",
        "client = genai.Client()\n",
        "\n",
        "# detailed system instructions\n",
        "system_instructions = \"\"\"\n",
        "\"You are a corporate legal assistant.\"\n",
        "            \"Your job is to extract the following from any B2B contract text:\"\n",
        "            \"1. Contract start and end dates.\"\n",
        "            \"2. Payment terms,\"\n",
        "            \"3. Termination conditions,\"\n",
        "            \"4. Any penalty or liability clauses.\"\n",
        "            \"Output only what you find.\"\n",
        "            \"I need the output in tabular form\"\n",
        "\"\"\"\n",
        "\n",
        "#content\n",
        "contents=\"\"\"\n",
        "        This agreement is entered into on May 1st, 2024 and shall remain in effect until April 30, 2025.\n",
        "        Payment is due within 45 days of invoice date. Late payments may incur a penalty of 3% monthly.\n",
        "        Either party may terminate this agreement with 60 days' notice.\n",
        "\"\"\"\n",
        "\n",
        "#model\n",
        "response_8 = client.models.generate_content(model='gemini-2.5-flash',\n",
        "                                            contents=contents,\n",
        "                                            config=types.GenerateContentConfig(system_instruction=system_instructions))\n",
        "print(response_8.text)"
      ],
      "metadata": {
        "colab": {
          "base_uri": "https://localhost:8080/"
        },
        "id": "E-i2LepcBceH",
        "outputId": "b753dcae-591f-4631-f802-543bf57c2191"
      },
      "execution_count": null,
      "outputs": [
        {
          "output_type": "stream",
          "name": "stdout",
          "text": [
            "| Category                  | Details                                                                                                 |\n",
            "| :------------------------ | :------------------------------------------------------------------------------------------------------ |\n",
            "| **Contract Start Date**   | May 1st, 2024                                                                                           |\n",
            "| **Contract End Date**     | April 30, 2025                                                                                          |\n",
            "| **Payment Terms**         | Payment is due within 45 days of invoice date.                                                          |\n",
            "| **Termination Conditions**| Either party may terminate this agreement with 60 days' notice.                                         |\n",
            "| **Penalty/Liability**     | Late payments may incur a penalty of 3% monthly.                                                        |\n"
          ]
        }
      ]
    },
    {
      "cell_type": "code",
      "source": [
        "\"\"\"\n",
        "1. max output tokens\n",
        "2. sets a hard cap on how long the model's response ca be (1 token = % words)\n",
        "\"\"\"\n",
        "response_9 = client.models.generate_content(model='gemini-2.5-flash-lite',\n",
        "                                            contents=\"What is deep learning ?\",\n",
        "                                            config=types.GenerateContentConfig(max_output_tokens=1000))\n",
        "print(response_9.text)"
      ],
      "metadata": {
        "colab": {
          "base_uri": "https://localhost:8080/"
        },
        "id": "W7jf_5C7F85I",
        "outputId": "9786ffbb-9a49-4de4-e927-b64df76608dd"
      },
      "execution_count": null,
      "outputs": [
        {
          "output_type": "stream",
          "name": "stdout",
          "text": [
            "Deep learning is a **subset of machine learning** that is inspired by the structure and function of the human brain, specifically its interconnected network of neurons. The \"deep\" in deep learning refers to the **multiple layers** of these artificial neural networks.\n",
            "\n",
            "Here's a breakdown of the key concepts:\n",
            "\n",
            "**1. Artificial Neural Networks (ANNs):**\n",
            "* Imagine a complex web of interconnected nodes, similar to neurons in the brain. These nodes are organized into layers.\n",
            "* Each node (or neuron) receives input, performs a simple calculation, and then passes its output to other nodes in the next layer.\n",
            "* The strength of the connections between neurons is represented by **weights**. These weights are adjusted during the learning process.\n",
            "\n",
            "**2. Layers of Neurons:**\n",
            "* **Input Layer:** This layer receives the raw data (e.g., pixels of an image, words in a sentence, numerical features).\n",
            "* **Hidden Layers:** These are the core of deep learning. There can be many hidden layers, each extracting increasingly complex features from the data. Early layers might detect simple patterns like edges or corners, while later layers might recognize shapes, objects, or more abstract concepts.\n",
            "* **Output Layer:** This layer produces the final result of the network, which could be a classification (e.g., \"cat\" or \"dog\"), a prediction (e.g., stock price), or a generated piece of content (e.g., text or an image).\n",
            "\n",
            "**3. Learning Through Data:**\n",
            "* Deep learning models learn by being exposed to **vast amounts of data**.\n",
            "* During training, the model is fed input data along with its corresponding correct output (supervised learning).\n",
            "* The network makes a prediction, and then the **error** between its prediction and the actual output is calculated.\n",
            "* This error is used to adjust the **weights** of the connections between neurons, gradually improving the model's accuracy. This adjustment process is called **backpropagation**.\n",
            "\n",
            "**4. Feature Extraction:**\n",
            "* One of the most significant advantages of deep learning is its ability to **automatically learn hierarchical features** from raw data. Traditional machine learning often requires humans to manually engineer features.\n",
            "* For example, when recognizing images, a deep learning model can learn to identify edges, textures, shapes, and eventually entire objects without explicit instructions on what to look for.\n",
            "\n",
            "**Why is it \"Deep\"?**\n",
            "The \"depth\" of the neural network (the number of hidden layers) is what allows it to learn increasingly abstract and complex representations of the data. A shallow network might only be able to learn simple patterns, while a deep network can learn intricate hierarchies of features, leading to much more powerful and sophisticated capabilities.\n",
            "\n",
            "**Key Characteristics and Advantages of Deep Learning:**\n",
            "\n",
            "* **Automatic Feature Learning:** Eliminates the need for manual feature engineering.\n",
            "* **Handles Large Datasets:** Excels with massive amounts of data, which is crucial for complex tasks.\n",
            "* **High Accuracy:** Achieves state-of-the-art results in many domains.\n",
            "* **Versatility:** Applicable to a wide range of problems.\n",
            "* **Scalability:** Can be scaled up with more data and computational resources.\n",
            "\n",
            "**Common Applications of Deep Learning:**\n",
            "\n",
            "* **Image Recognition and Computer Vision:** Identifying objects, facial recognition, self-driving cars.\n",
            "* **Natural Language Processing (NLP):** Language translation, chatbots, sentiment analysis, text generation.\n",
            "* **Speech Recognition:** Virtual assistants like Siri and Alexa.\n",
            "* **Recommendation Systems:** Suggesting products, movies, or music.\n",
            "* **Medical Diagnosis:** Analyzing medical images for diseases.\n",
            "* **Fraud Detection:** Identifying suspicious transactions.\n",
            "* **Robotics:** Enabling robots to perceive and interact with their environment.\n",
            "\n",
            "**In essence, deep learning is about building powerful models that can learn intricate patterns and relationships within data through layered neural networks, enabling them to perform complex tasks with remarkable accuracy.**\n"
          ]
        }
      ]
    },
    {
      "cell_type": "code",
      "source": [
        "\"\"\"\n",
        "CandidateCount optional: Number of generated responses to return.\n",
        "If unset, this will default to 1. Please note this doesn't work for\n",
        "previous generation models (Gemini 1.0 family)\n",
        "\"\"\"\n",
        "\n",
        "response_10 = client.models.generate_content(model='gemini-2.5-flash-lite',\n",
        "                                            contents=\"What is deep learning ? in 100 words\",\n",
        "                                            config=types.GenerateContentConfig(candidateCount=2))\n",
        "print(response_10)"
      ],
      "metadata": {
        "id": "eRlUkALzeWqh",
        "colab": {
          "base_uri": "https://localhost:8080/"
        },
        "outputId": "706caeaf-8bbe-47e2-ae1a-22b363362b31"
      },
      "execution_count": 21,
      "outputs": [
        {
          "output_type": "stream",
          "name": "stdout",
          "text": [
            "sdk_http_response=HttpResponse(\n",
            "  headers=<dict len=10>\n",
            ") candidates=[Candidate(\n",
            "  content=Content(\n",
            "    parts=[\n",
            "      Part(\n",
            "        text='Deep learning is a subset of machine learning that uses artificial neural networks with multiple layers (hence \"deep\"). These networks are inspired by the structure and function of the human brain. By processing data through these layers, deep learning models can automatically learn hierarchical representations, extracting increasingly complex features from raw input. This allows them to excel at tasks like image recognition, natural language processing, and speech synthesis, often without explicit feature engineering.'\n",
            "      ),\n",
            "      Part(\n",
            "        text='Deep learning is a subfield of machine learning that uses artificial neural networks with multiple layers (hence \"deep\") to learn from data. These networks mimic the structure and function of the human brain, processing information through successive layers of interconnected nodes. Each layer extracts increasingly complex features from the input data. This allows deep learning models to automatically discover intricate patterns and relationships, enabling them to excel at tasks like image recognition, natural language processing, and speech synthesis, often surpassing traditional machine learning methods.'\n",
            "      ),\n",
            "    ],\n",
            "    role='model'\n",
            "  ),\n",
            "  finish_reason=<FinishReason.STOP: 'STOP'>,\n",
            "  index=0\n",
            "), Candidate(\n",
            "  content=Content(\n",
            "    parts=[\n",
            "      Part(\n",
            "        text='Deep learning is a subfield of machine learning that uses artificial neural networks with multiple layers (hence \"deep\") to learn from data. These networks mimic the structure and function of the human brain, processing information through successive layers of interconnected nodes. Each layer extracts increasingly complex features from the input data. This allows deep learning models to automatically discover intricate patterns and relationships, enabling them to excel at tasks like image recognition, natural language processing, and speech synthesis, often surpassing traditional machine learning methods.'\n",
            "      ),\n",
            "    ],\n",
            "    role='model'\n",
            "  ),\n",
            "  finish_reason=<FinishReason.STOP: 'STOP'>,\n",
            "  index=1\n",
            ")] create_time=None model_version='gemini-2.5-flash-lite' prompt_feedback=None response_id='DG_iaI3cGuPVz7IPpNCysAs' usage_metadata=GenerateContentResponseUsageMetadata(\n",
            "  candidates_token_count=84,\n",
            "  prompt_token_count=12,\n",
            "  prompt_tokens_details=[\n",
            "    ModalityTokenCount(\n",
            "      modality=<MediaModality.TEXT: 'TEXT'>,\n",
            "      token_count=12\n",
            "    ),\n",
            "  ],\n",
            "  total_token_count=96\n",
            ") automatic_function_calling_history=[] parsed=None\n"
          ]
        }
      ]
    },
    {
      "cell_type": "code",
      "source": [
        "for i, candidate in enumerate(response_10.candidates):\n",
        "  print(f\"Candidate{i+1}:\\n{candidate.content.parts[0].text}\")"
      ],
      "metadata": {
        "colab": {
          "base_uri": "https://localhost:8080/"
        },
        "id": "UH_C4Vt7fv78",
        "outputId": "940d47e2-b582-4c2d-dab3-1cd762acede1"
      },
      "execution_count": 26,
      "outputs": [
        {
          "output_type": "stream",
          "name": "stdout",
          "text": [
            "Candidate1:\n",
            "Deep learning is a subset of machine learning that uses artificial neural networks with multiple layers (hence \"deep\"). These networks are inspired by the structure and function of the human brain. By processing data through these layers, deep learning models can automatically learn hierarchical representations, extracting increasingly complex features from raw input. This allows them to excel at tasks like image recognition, natural language processing, and speech synthesis, often without explicit feature engineering.\n",
            "Candidate2:\n",
            "Deep learning is a subfield of machine learning that uses artificial neural networks with multiple layers (hence \"deep\") to learn from data. These networks mimic the structure and function of the human brain, processing information through successive layers of interconnected nodes. Each layer extracts increasingly complex features from the input data. This allows deep learning models to automatically discover intricate patterns and relationships, enabling them to excel at tasks like image recognition, natural language processing, and speech synthesis, often surpassing traditional machine learning methods.\n"
          ]
        }
      ]
    },
    {
      "cell_type": "code",
      "source": [],
      "metadata": {
        "id": "cqmT44VdkC6Q"
      },
      "execution_count": null,
      "outputs": []
    }
  ]
}